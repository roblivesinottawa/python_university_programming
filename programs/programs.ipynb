{
 "cells": [
  {
   "cell_type": "markdown",
   "metadata": {},
   "source": [
    "THIS NOTEBOOK PRESENTS DIFFERENT PROGRAMS TO SOLVE A VARIETY OF PROBLEMS."
   ]
  },
  {
   "cell_type": "markdown",
   "metadata": {},
   "source": [
    "1. Find the factor of a number"
   ]
  },
  {
   "cell_type": "code",
   "execution_count": 2,
   "metadata": {},
   "outputs": [
    {
     "name": "stdout",
     "output_type": "stream",
     "text": [
      "[2, 2, 2, 3, 5]\n",
      "[]\n",
      "[2, 3, 5]\n",
      "[7]\n",
      "[2, 2, 5, 7]\n"
     ]
    }
   ],
   "source": [
    "def getprimefactors(n):\n",
    "    \"\"\"\n",
    "    Returns all the prime factors of a positive integer\n",
    "    \"\"\"\n",
    "    factors = list()\n",
    "    d = 2\n",
    "\n",
    "    while d*d <= n:\n",
    "        if n % d == 0:\n",
    "            factors.append(d)\n",
    "            n //= d\n",
    "        else:\n",
    "            d += 1\n",
    "    return factors\n",
    "\n",
    "if __name__=='__main__':\n",
    "    print(getprimefactors(600))\n",
    "    print(getprimefactors(13))\n",
    "    print(getprimefactors(150))\n",
    "    print(getprimefactors(77))\n",
    "    print(getprimefactors(980))"
   ]
  },
  {
   "cell_type": "code",
   "execution_count": null,
   "metadata": {},
   "outputs": [],
   "source": []
  }
 ],
 "metadata": {
  "interpreter": {
   "hash": "aee8b7b246df8f9039afb4144a1f6fd8d2ca17a180786b69acc140d282b71a49"
  },
  "kernelspec": {
   "display_name": "Python 3.10.2 64-bit",
   "language": "python",
   "name": "python3"
  },
  "language_info": {
   "codemirror_mode": {
    "name": "ipython",
    "version": 3
   },
   "file_extension": ".py",
   "mimetype": "text/x-python",
   "name": "python",
   "nbconvert_exporter": "python",
   "pygments_lexer": "ipython3",
   "version": "3.10.2"
  },
  "orig_nbformat": 4
 },
 "nbformat": 4,
 "nbformat_minor": 2
}
