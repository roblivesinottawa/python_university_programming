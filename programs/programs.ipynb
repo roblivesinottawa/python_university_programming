{
 "cells": [
  {
   "cell_type": "markdown",
   "metadata": {},
   "source": [
    "THIS NOTEBOOK PRESENTS DIFFERENT PROGRAMS TO SOLVE A VARIETY OF PROBLEMS."
   ]
  },
  {
   "cell_type": "markdown",
   "metadata": {},
   "source": [
    "1. Find the prime factor of a number"
   ]
  },
  {
   "cell_type": "code",
   "execution_count": 2,
   "metadata": {},
   "outputs": [
    {
     "name": "stdout",
     "output_type": "stream",
     "text": [
      "[2, 2, 2, 3, 5]\n",
      "[]\n",
      "[2, 3, 5]\n",
      "[7]\n",
      "[2, 2, 5, 7]\n"
     ]
    }
   ],
   "source": [
    "def getprimefactors(n):\n",
    "    \"\"\"\n",
    "    Returns all the prime factors of a positive integer\n",
    "    \"\"\"\n",
    "    factors = list()\n",
    "    d = 2\n",
    "\n",
    "    while d*d <= n:\n",
    "        if n % d == 0:\n",
    "            factors.append(d)\n",
    "            n //= d\n",
    "        else:\n",
    "            d += 1\n",
    "    return factors\n",
    "\n",
    "if __name__=='__main__':\n",
    "    print(getprimefactors(600))\n",
    "    print(getprimefactors(13))\n",
    "    print(getprimefactors(150))\n",
    "    print(getprimefactors(77))\n",
    "    print(getprimefactors(980))"
   ]
  },
  {
   "cell_type": "markdown",
   "metadata": {},
   "source": [
    "2. Identify a palindrome"
   ]
  },
  {
   "cell_type": "code",
   "execution_count": 4,
   "metadata": {},
   "outputs": [
    {
     "name": "stdout",
     "output_type": "stream",
     "text": [
      "False\n",
      "True\n"
     ]
    }
   ],
   "source": [
    "import re\n",
    "\n",
    "def ispalindrome(sentence):\n",
    "    \"\"\"Returns True if the given sentence is a palindrome, False otherwise\"\"\"\n",
    "    # Remove all non-alphanumeric characters\n",
    "    sentence = re.sub(r'[^a-zA-Z0-9]', '', sentence.lower())\n",
    "    # Check if the sentence is a palindrome\n",
    "    return sentence == sentence[::-1]\n",
    "\n",
    "if __name__=='__main__':\n",
    "    print(ispalindrome('hello world'))\n",
    "    print(ispalindrome(\"Go hang a salami, I'm a lasagna hog.\"))\n",
    "    "
   ]
  },
  {
   "cell_type": "markdown",
   "metadata": {},
   "source": [
    "3. A program to sort words"
   ]
  },
  {
   "cell_type": "code",
   "execution_count": 5,
   "metadata": {},
   "outputs": [
    {
     "name": "stdout",
     "output_type": "stream",
     "text": [
      "bike car helicopter plane\n"
     ]
    }
   ],
   "source": [
    "def sortwords(input):\n",
    "    \"Returns a string wit the words in alphabetical order\"\n",
    "    return ' '.join(sorted(input.split(), key=str.casefold)) # casefold is a method of str\n",
    "\n",
    "if __name__=='__main__':\n",
    "    print(sortwords('plane car bike helicopter'))"
   ]
  },
  {
   "cell_type": "markdown",
   "metadata": {},
   "source": [
    "4. find all list items"
   ]
  },
  {
   "cell_type": "code",
   "execution_count": 1,
   "metadata": {},
   "outputs": [
    {
     "name": "stdout",
     "output_type": "stream",
     "text": [
      "[[0, 0, 1], [0, 1], [1, 1]]\n",
      "[[0, 0], [1]]\n"
     ]
    }
   ],
   "source": [
    "def indexall(search_list, item):\n",
    "    indices = list()\n",
    "    for i in range(len(search_list)):\n",
    "        if search_list[i] == item:\n",
    "            indices.append([i])\n",
    "        elif isinstance(search_list[i], list):\n",
    "            for index in indexall(search_list[i], item):\n",
    "                indices.append([i]+index)\n",
    "    return indices\n",
    "\n",
    "if __name__ == '__main__':    \n",
    "    example = [[[1, 2, 3], 2, [1, 3]], [1, 2, 3]]\n",
    "    print(indexall(example, 2))\n",
    "    print(indexall(example, [1, 2, 3]))"
   ]
  },
  {
   "cell_type": "code",
   "execution_count": null,
   "metadata": {},
   "outputs": [],
   "source": []
  }
 ],
 "metadata": {
  "interpreter": {
   "hash": "aee8b7b246df8f9039afb4144a1f6fd8d2ca17a180786b69acc140d282b71a49"
  },
  "kernelspec": {
   "display_name": "Python 3.10.2 64-bit",
   "language": "python",
   "name": "python3"
  },
  "language_info": {
   "codemirror_mode": {
    "name": "ipython",
    "version": 3
   },
   "file_extension": ".py",
   "mimetype": "text/x-python",
   "name": "python",
   "nbconvert_exporter": "python",
   "pygments_lexer": "ipython3",
   "version": "3.10.2"
  },
  "orig_nbformat": 4
 },
 "nbformat": 4,
 "nbformat_minor": 2
}
