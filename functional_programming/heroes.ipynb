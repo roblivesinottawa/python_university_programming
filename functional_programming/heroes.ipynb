{
 "cells": [
  {
   "cell_type": "code",
   "execution_count": 1,
   "metadata": {},
   "outputs": [],
   "source": [
    "from functools import reduce"
   ]
  },
  {
   "cell_type": "code",
   "execution_count": 2,
   "metadata": {},
   "outputs": [],
   "source": [
    "heroes = [{\n",
    "    'name': 'Tony Stark',\n",
    "    'heroname': 'Iron Man',\n",
    "    'role': 'scientist'\n",
    "},\n",
    "{\n",
    "    'name': 'Steve Rogers',\n",
    "    'heroname': 'Captain America',\n",
    "    'role': 'Army Captain'\n",
    "},\n",
    "{\n",
    "    'name': 'Bruce Wayne',\n",
    "    'heroname': 'Batman',\n",
    "    'role': 'detective'\n",
    "},\n",
    "{\n",
    "    'name': 'Clark Kent',\n",
    "    'heroname': 'Superman',\n",
    "    'role': 'journalist'\n",
    "},\n",
    "{\n",
    "    'name': 'Bruce Banner',\n",
    "    'heroname': 'Hulk',\n",
    "    'role': 'scientist'\n",
    "}]"
   ]
  },
  {
   "cell_type": "code",
   "execution_count": 3,
   "metadata": {},
   "outputs": [
    {
     "name": "stdout",
     "output_type": "stream",
     "text": [
      "[{'name': 'Tony Stark', 'heroname': 'Iron Man', 'role': 'scientist'}, {'name': 'Steve Rogers', 'heroname': 'Captain America', 'role': 'Army Captain'}, {'name': 'Bruce Wayne', 'heroname': 'Batman', 'role': 'detective'}, {'name': 'Clark Kent', 'heroname': 'Superman', 'role': 'journalist'}, {'name': 'Bruce Banner', 'heroname': 'Hulk', 'role': 'scientist'}]\n"
     ]
    }
   ],
   "source": [
    "print(heroes)"
   ]
  },
  {
   "cell_type": "code",
   "execution_count": 8,
   "metadata": {},
   "outputs": [
    {
     "name": "stdout",
     "output_type": "stream",
     "text": [
      "dict_keys(['name', 'heroname', 'role'])\n"
     ]
    }
   ],
   "source": [
    "print(heroes[0].keys())\n",
    "    "
   ]
  },
  {
   "cell_type": "code",
   "execution_count": 10,
   "metadata": {},
   "outputs": [
    {
     "name": "stdout",
     "output_type": "stream",
     "text": [
      "Tony Stark\n",
      "Steve Rogers\n",
      "Bruce Wayne\n",
      "Clark Kent\n",
      "Bruce Banner\n"
     ]
    }
   ],
   "source": [
    "for hero in heroes:\n",
    "    print(hero['name'])"
   ]
  },
  {
   "cell_type": "code",
   "execution_count": null,
   "metadata": {},
   "outputs": [],
   "source": []
  }
 ],
 "metadata": {
  "interpreter": {
   "hash": "aee8b7b246df8f9039afb4144a1f6fd8d2ca17a180786b69acc140d282b71a49"
  },
  "kernelspec": {
   "display_name": "Python 3.10.2 64-bit",
   "language": "python",
   "name": "python3"
  },
  "language_info": {
   "codemirror_mode": {
    "name": "ipython",
    "version": 3
   },
   "file_extension": ".py",
   "mimetype": "text/x-python",
   "name": "python",
   "nbconvert_exporter": "python",
   "pygments_lexer": "ipython3",
   "version": "3.10.2"
  },
  "orig_nbformat": 4
 },
 "nbformat": 4,
 "nbformat_minor": 2
}
