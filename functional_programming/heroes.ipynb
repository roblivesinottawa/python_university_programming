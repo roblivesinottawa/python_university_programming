{
 "cells": [
  {
   "cell_type": "code",
   "execution_count": 1,
   "metadata": {},
   "outputs": [],
   "source": [
    "from functools import reduce"
   ]
  },
  {
   "cell_type": "code",
   "execution_count": 16,
   "metadata": {},
   "outputs": [],
   "source": [
    "# this is just a fictitious example of a dictionary containing a list heroes with\n",
    "# their roles and made up salaries so that the dictionary can be analyzed\n",
    "# and some specific information can be extracted"
   ]
  },
  {
   "cell_type": "code",
   "execution_count": 7,
   "metadata": {},
   "outputs": [],
   "source": [
    "heroes = [{\n",
    "    'name': 'Tony Stark',\n",
    "    'heroname': 'Iron Man',\n",
    "    'role': 'scientist',\n",
    "    'salary': 100000\n",
    "},\n",
    "{\n",
    "    'name': 'Steve Rogers',\n",
    "    'heroname': 'Captain America',\n",
    "    'role': 'Army Captain',\n",
    "    'salary': 60000\n",
    "},\n",
    "{\n",
    "    'name': 'Bruce Wayne',\n",
    "    'heroname': 'Batman',\n",
    "    'role': 'detective',\n",
    "    'salary': 120000\n",
    "\n",
    "},\n",
    "{\n",
    "    'name': 'Clark Kent',\n",
    "    'heroname': 'Superman',\n",
    "    'role': 'journalist',\n",
    "    'salary': 70000\n",
    "},\n",
    "{\n",
    "    'name': 'Bruce Banner',\n",
    "    'heroname': 'Hulk',\n",
    "    'role': 'scientist',\n",
    "    'salary': 120000\n",
    "}]"
   ]
  },
  {
   "cell_type": "code",
   "execution_count": 8,
   "metadata": {},
   "outputs": [
    {
     "name": "stdout",
     "output_type": "stream",
     "text": [
      "[{'name': 'Tony Stark', 'heroname': 'Iron Man', 'role': 'scientist', 'salary': 100000}, {'name': 'Steve Rogers', 'heroname': 'Captain America', 'role': 'Army Captain', 'salary': 60000}, {'name': 'Bruce Wayne', 'heroname': 'Batman', 'role': 'detective', 'salary': 120000}, {'name': 'Clark Kent', 'heroname': 'Superman', 'role': 'journalist', 'salary': 70000}, {'name': 'Bruce Banner', 'heroname': 'Hulk', 'role': 'scientist', 'salary': 120000}]\n"
     ]
    }
   ],
   "source": [
    "print(heroes)"
   ]
  },
  {
   "cell_type": "code",
   "execution_count": 9,
   "metadata": {},
   "outputs": [
    {
     "name": "stdout",
     "output_type": "stream",
     "text": [
      "dict_keys(['name', 'heroname', 'role', 'salary'])\n"
     ]
    }
   ],
   "source": [
    "print(heroes[0].keys())\n",
    "    "
   ]
  },
  {
   "cell_type": "code",
   "execution_count": 10,
   "metadata": {},
   "outputs": [
    {
     "name": "stdout",
     "output_type": "stream",
     "text": [
      "Tony Stark\n",
      "Steve Rogers\n",
      "Bruce Wayne\n",
      "Clark Kent\n",
      "Bruce Banner\n"
     ]
    }
   ],
   "source": [
    "for hero in heroes:\n",
    "    print(hero['name'])"
   ]
  },
  {
   "cell_type": "code",
   "execution_count": 13,
   "metadata": {},
   "outputs": [],
   "source": [
    "is_scientist = lambda hero: hero['role'] == 'scientist'\n",
    "isnot_scientist = lambda hero: hero['role'] != 'scientist'\n",
    "getrole = lambda hero: hero['role']\n",
    "getsalary = lambda hero: hero['salary']\n",
    "getname = lambda hero: hero['name']\n",
    "getsum = lambda acc, x: acc + x"
   ]
  },
  {
   "cell_type": "code",
   "execution_count": 14,
   "metadata": {},
   "outputs": [],
   "source": [
    "total_scientist_salary = reduce(getsum, [getsalary(x) for x in heroes if is_scientist(x)])\n",
    "average_scientist_salary = total_scientist_salary / len([getsalary(x) for x in heroes if is_scientist(x)])\n",
    "\n",
    "total_nonscientist_salary = reduce(getsum, [getsalary(x) for x in heroes if isnot_scientist(x)])\n",
    "average_nonscientist_salary = total_nonscientist_salary / len([getsalary(x) for x in heroes if isnot_scientist(x)])"
   ]
  },
  {
   "cell_type": "code",
   "execution_count": 15,
   "metadata": {},
   "outputs": [
    {
     "name": "stdout",
     "output_type": "stream",
     "text": [
      "110000.0\n",
      "83333.33333333333\n"
     ]
    }
   ],
   "source": [
    "print(average_scientist_salary)\n",
    "print(average_nonscientist_salary)"
   ]
  },
  {
   "cell_type": "code",
   "execution_count": null,
   "metadata": {},
   "outputs": [],
   "source": []
  }
 ],
 "metadata": {
  "interpreter": {
   "hash": "aee8b7b246df8f9039afb4144a1f6fd8d2ca17a180786b69acc140d282b71a49"
  },
  "kernelspec": {
   "display_name": "Python 3.10.2 64-bit",
   "language": "python",
   "name": "python3"
  },
  "language_info": {
   "codemirror_mode": {
    "name": "ipython",
    "version": 3
   },
   "file_extension": ".py",
   "mimetype": "text/x-python",
   "name": "python",
   "nbconvert_exporter": "python",
   "pygments_lexer": "ipython3",
   "version": "3.10.2"
  },
  "orig_nbformat": 4
 },
 "nbformat": 4,
 "nbformat_minor": 2
}
