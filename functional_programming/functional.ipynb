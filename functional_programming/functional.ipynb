{
 "cells": [
  {
   "cell_type": "markdown",
   "metadata": {},
   "source": [
    "this is a notebook that introduces concepts of functional programming in Python"
   ]
  },
  {
   "cell_type": "markdown",
   "metadata": {},
   "source": [
    "An example of a simple user defined function that returns a Hello and the name of the user"
   ]
  },
  {
   "cell_type": "code",
   "execution_count": 1,
   "metadata": {},
   "outputs": [],
   "source": [
    "def sayhello(name):\n",
    "    print(\"Hello, \" + name)"
   ]
  },
  {
   "cell_type": "code",
   "execution_count": 2,
   "metadata": {},
   "outputs": [
    {
     "name": "stdout",
     "output_type": "stream",
     "text": [
      "Hello, Rob\n"
     ]
    }
   ],
   "source": [
    "hello = sayhello\n",
    "hello(\"Rob\")"
   ]
  },
  {
   "cell_type": "code",
   "execution_count": 3,
   "metadata": {},
   "outputs": [
    {
     "name": "stdout",
     "output_type": "stream",
     "text": [
      "{'name': 'John Doe', 'age': 50}\n"
     ]
    }
   ],
   "source": [
    "# set an environment variable\n",
    "ENVIRONMENT = 'prod'\n",
    "\n",
    "def fetch_person1():\n",
    "    return {\n",
    "        'name': 'John Doe',\n",
    "        'age': 50\n",
    "    }\n",
    "\n",
    "def fetch_person2():\n",
    "    return {\n",
    "        'name': 'Jane Doe',\n",
    "        'age': 34\n",
    "    }\n",
    "\n",
    "getdata = fetch_person1 if ENVIRONMENT == 'prod' else fetch_person2\n",
    "data = getdata()\n",
    "print(data)"
   ]
  },
  {
   "cell_type": "markdown",
   "metadata": {},
   "source": [
    "Some mathematical operations using user defined functions"
   ]
  },
  {
   "cell_type": "code",
   "execution_count": 4,
   "metadata": {},
   "outputs": [],
   "source": [
    "import math  # import math module"
   ]
  },
  {
   "cell_type": "code",
   "execution_count": 5,
   "metadata": {},
   "outputs": [],
   "source": [
    "def double(x):\n",
    "    return x * 2\n",
    "\n",
    "def squared(x):\n",
    "    return x * x\n",
    "\n",
    "def exponent(x):\n",
    "    return math.exp(x)"
   ]
  },
  {
   "cell_type": "code",
   "execution_count": 6,
   "metadata": {},
   "outputs": [],
   "source": [
    "fn_list = [\n",
    "    exponent,\n",
    "    squared,\n",
    "    double,\n",
    "    math.sqrt,\n",
    "]"
   ]
  },
  {
   "cell_type": "code",
   "execution_count": 7,
   "metadata": {},
   "outputs": [],
   "source": [
    "# define a random number\n",
    "from random import randint\n",
    "my_number = randint(1, 10)"
   ]
  },
  {
   "cell_type": "code",
   "execution_count": 8,
   "metadata": {},
   "outputs": [
    {
     "name": "stdout",
     "output_type": "stream",
     "text": [
      "7\n"
     ]
    }
   ],
   "source": [
    "print(my_number)"
   ]
  },
  {
   "cell_type": "code",
   "execution_count": 9,
   "metadata": {},
   "outputs": [
    {
     "data": {
      "text/plain": [
       "[1096.6331584284585, 49, 14, 2.6457513110645907]"
      ]
     },
     "execution_count": 9,
     "metadata": {},
     "output_type": "execute_result"
    }
   ],
   "source": [
    "[func(my_number) for func in fn_list]"
   ]
  },
  {
   "cell_type": "markdown",
   "metadata": {},
   "source": [
    "more mathematical operations"
   ]
  },
  {
   "cell_type": "code",
   "execution_count": 10,
   "metadata": {},
   "outputs": [],
   "source": [
    "def add(a, b):\n",
    "    return a + b\n",
    "\n",
    "def subtract(a, b):\n",
    "    return a - b\n",
    "\n",
    "def multiply(a, b):\n",
    "    return a * b\n",
    "\n",
    "def power(a, b):\n",
    "    return a ** b\n"
   ]
  },
  {
   "cell_type": "code",
   "execution_count": 11,
   "metadata": {},
   "outputs": [
    {
     "name": "stdout",
     "output_type": "stream",
     "text": [
      "50\n",
      "-44\n",
      "50\n",
      "8000\n"
     ]
    }
   ],
   "source": [
    "print(add(20, 30))\n",
    "print(subtract(-10, 34))\n",
    "print(multiply(5, 10))\n",
    "print(power(20, 3))"
   ]
  },
  {
   "cell_type": "code",
   "execution_count": 12,
   "metadata": {},
   "outputs": [],
   "source": [
    "# defining lambda functions with the same content as above\n",
    "add = lambda a, b: a + b\n",
    "subtract = lambda a, b: a - b\n",
    "multiply = lambda a, b: a * b\n",
    "power = lambda a, b: a ** b"
   ]
  },
  {
   "cell_type": "code",
   "execution_count": 13,
   "metadata": {},
   "outputs": [
    {
     "data": {
      "text/plain": [
       "50"
      ]
     },
     "execution_count": 13,
     "metadata": {},
     "output_type": "execute_result"
    }
   ],
   "source": [
    "add(20, 30)"
   ]
  },
  {
   "cell_type": "markdown",
   "metadata": {},
   "source": [
    "this function combines names"
   ]
  },
  {
   "cell_type": "code",
   "execution_count": 14,
   "metadata": {},
   "outputs": [],
   "source": [
    "def combine(func):\n",
    "    return func(\"John\", \"Doe\")"
   ]
  },
  {
   "cell_type": "code",
   "execution_count": 15,
   "metadata": {},
   "outputs": [],
   "source": [
    "def get_government_form_notation(first, last):\n",
    "    return f'{last.upper()}, {first.upper()}'"
   ]
  },
  {
   "cell_type": "code",
   "execution_count": 16,
   "metadata": {},
   "outputs": [
    {
     "name": "stdout",
     "output_type": "stream",
     "text": [
      "DOE, JOHN\n"
     ]
    }
   ],
   "source": [
    "print(combine(get_government_form_notation))"
   ]
  },
  {
   "cell_type": "markdown",
   "metadata": {},
   "source": [
    "create a printer function"
   ]
  },
  {
   "cell_type": "code",
   "execution_count": 17,
   "metadata": {},
   "outputs": [
    {
     "name": "stdout",
     "output_type": "stream",
     "text": [
      "Hello World!\n"
     ]
    }
   ],
   "source": [
    "def create_printer():\n",
    "    def printer():\n",
    "        print('Hello World!')\n",
    "\n",
    "    return printer\n",
    "\n",
    "printing = create_printer()\n",
    "printing()"
   ]
  },
  {
   "cell_type": "code",
   "execution_count": 18,
   "metadata": {},
   "outputs": [
    {
     "name": "stdout",
     "output_type": "stream",
     "text": [
      "Hello World!\n"
     ]
    }
   ],
   "source": [
    "def create_printer2():\n",
    "    return lambda: print('Hello World!')\n",
    "\n",
    "printing2 = create_printer2()\n",
    "printing2()\n",
    "    "
   ]
  },
  {
   "cell_type": "markdown",
   "metadata": {},
   "source": [
    "create a multiplier function"
   ]
  },
  {
   "cell_type": "code",
   "execution_count": 19,
   "metadata": {},
   "outputs": [
    {
     "name": "stdout",
     "output_type": "stream",
     "text": [
      "20\n",
      "90\n",
      "1000\n"
     ]
    }
   ],
   "source": [
    "def create_multiplier(x):\n",
    "    return lambda y: x * y\n",
    "\n",
    "double = create_multiplier(2)\n",
    "triple = create_multiplier(3)\n",
    "tenfold = create_multiplier(10)\n",
    "\n",
    "print(double(10))\n",
    "print(triple(30))\n",
    "print(tenfold(100))"
   ]
  },
  {
   "cell_type": "code",
   "execution_count": 20,
   "metadata": {},
   "outputs": [
    {
     "name": "stdout",
     "output_type": "stream",
     "text": [
      "the favourite number is 100\n"
     ]
    }
   ],
   "source": [
    "def get_number():\n",
    "    \"This function returns the user's favourite number\"\n",
    "    fav_number = 100\n",
    "    return lambda x: f\"the favourite number is {fav_number}\"\n",
    "\n",
    "num = get_number()\n",
    "print(num(10))"
   ]
  },
  {
   "cell_type": "code",
   "execution_count": 21,
   "metadata": {},
   "outputs": [],
   "source": [
    "def counter():\n",
    "    \"this function returns a function that counts up\"\n",
    "    count = 0\n",
    "    def getcount(): return count\n",
    "    def increment(): nonlocal count; count += 1\n",
    "    return (getcount, increment)\n",
    "\n",
    "getcount, increment = counter()\n"
   ]
  },
  {
   "cell_type": "code",
   "execution_count": 22,
   "metadata": {},
   "outputs": [
    {
     "name": "stdout",
     "output_type": "stream",
     "text": [
      "0\n",
      "2\n",
      "5\n"
     ]
    }
   ],
   "source": [
    "print(getcount())\n",
    "increment()\n",
    "increment()\n",
    "print(getcount())\n",
    "increment()\n",
    "increment()\n",
    "increment()\n",
    "print(getcount())"
   ]
  },
  {
   "cell_type": "code",
   "execution_count": 23,
   "metadata": {},
   "outputs": [],
   "source": [
    "def divide(x, y):\n",
    "    \"this function returns the quotient of two numbers\"\n",
    "    return x / y\n",
    "\n",
    "def sec_arg_isnt_zero(func):\n",
    "    \"this function returns a function that checks if the second argument is zero\"\n",
    "    return lambda x, y: func(x, y) if y != 0 else print('Warning: second argument is zero')\n",
    "\n",
    "dividesafe = sec_arg_isnt_zero(divide)"
   ]
  },
  {
   "cell_type": "code",
   "execution_count": 24,
   "metadata": {},
   "outputs": [
    {
     "ename": "ZeroDivisionError",
     "evalue": "division by zero",
     "output_type": "error",
     "traceback": [
      "\u001b[0;31m---------------------------------------------------------------------------\u001b[0m",
      "\u001b[0;31mZeroDivisionError\u001b[0m                         Traceback (most recent call last)",
      "\u001b[1;32m/Users/rob_the_programmer/Documents/programming/2022/python_university_programming/functional_programming/functional.ipynb Cell 31'\u001b[0m in \u001b[0;36m<module>\u001b[0;34m\u001b[0m\n\u001b[0;32m----> <a href='vscode-notebook-cell:/Users/rob_the_programmer/Documents/programming/2022/python_university_programming/functional_programming/functional.ipynb#ch0000030?line=0'>1</a>\u001b[0m \u001b[39mprint\u001b[39m(divide(\u001b[39m10\u001b[39;49m, \u001b[39m0\u001b[39;49m))\n",
      "\u001b[1;32m/Users/rob_the_programmer/Documents/programming/2022/python_university_programming/functional_programming/functional.ipynb Cell 30'\u001b[0m in \u001b[0;36mdivide\u001b[0;34m(x, y)\u001b[0m\n\u001b[1;32m      <a href='vscode-notebook-cell:/Users/rob_the_programmer/Documents/programming/2022/python_university_programming/functional_programming/functional.ipynb#ch0000029?line=0'>1</a>\u001b[0m \u001b[39mdef\u001b[39;00m \u001b[39mdivide\u001b[39m(x, y):\n\u001b[1;32m      <a href='vscode-notebook-cell:/Users/rob_the_programmer/Documents/programming/2022/python_university_programming/functional_programming/functional.ipynb#ch0000029?line=1'>2</a>\u001b[0m     \u001b[39m\"\u001b[39m\u001b[39mthis function returns the quotient of two numbers\u001b[39m\u001b[39m\"\u001b[39m\n\u001b[0;32m----> <a href='vscode-notebook-cell:/Users/rob_the_programmer/Documents/programming/2022/python_university_programming/functional_programming/functional.ipynb#ch0000029?line=2'>3</a>\u001b[0m     \u001b[39mreturn\u001b[39;00m x \u001b[39m/\u001b[39;49m y\n",
      "\u001b[0;31mZeroDivisionError\u001b[0m: division by zero"
     ]
    }
   ],
   "source": [
    "print(divide(10, 0))"
   ]
  },
  {
   "cell_type": "code",
   "execution_count": 25,
   "metadata": {},
   "outputs": [
    {
     "name": "stdout",
     "output_type": "stream",
     "text": [
      "Warning: second argument is zero\n",
      "None\n"
     ]
    }
   ],
   "source": [
    "print(dividesafe(10, 0))"
   ]
  },
  {
   "cell_type": "code",
   "execution_count": 26,
   "metadata": {},
   "outputs": [
    {
     "name": "stdout",
     "output_type": "stream",
     "text": [
      "5.0\n"
     ]
    }
   ],
   "source": [
    "print(divide(10, 2))"
   ]
  },
  {
   "cell_type": "code",
   "execution_count": 27,
   "metadata": {},
   "outputs": [
    {
     "name": "stdout",
     "output_type": "stream",
     "text": [
      "5.0\n"
     ]
    }
   ],
   "source": [
    "print(dividesafe(10, 2))"
   ]
  },
  {
   "cell_type": "code",
   "execution_count": 28,
   "metadata": {},
   "outputs": [
    {
     "name": "stdout",
     "output_type": "stream",
     "text": [
      "[0, 2, 4, 6, 8, 10, 12, 14, 16, 18, 20]\n"
     ]
    }
   ],
   "source": [
    "# define a list of numbers from 0 to 10\n",
    "numbers = list(range(11))\n",
    "doubled = list()\n",
    "\n",
    "result = list(map(lambda x: x * 2, numbers))\n",
    "print(result)"
   ]
  },
  {
   "cell_type": "markdown",
   "metadata": {},
   "source": [
    "more procedural way of doing the above"
   ]
  },
  {
   "cell_type": "code",
   "execution_count": 29,
   "metadata": {},
   "outputs": [
    {
     "name": "stdout",
     "output_type": "stream",
     "text": [
      "[0, 2, 4, 6, 8, 10, 12, 14, 16, 18, 20]\n"
     ]
    }
   ],
   "source": [
    "numbers_list = [0, 1, 2, 3, 4, 5, 6, 7, 8, 9, 10]\n",
    "doubled_list = []\n",
    "for x in numbers_list:\n",
    "    doubled_list.append(x * 2)\n",
    "\n",
    "print(doubled_list)"
   ]
  },
  {
   "cell_type": "markdown",
   "metadata": {},
   "source": [
    "another way"
   ]
  },
  {
   "cell_type": "code",
   "execution_count": 30,
   "metadata": {},
   "outputs": [
    {
     "name": "stdout",
     "output_type": "stream",
     "text": [
      "[20, 22, 24, 26, 28, 30, 32, 34, 36, 38, 40]\n"
     ]
    }
   ],
   "source": [
    "nums = list(range(10, 21))\n",
    "def double(x): return x * 2\n",
    "\n",
    "doubled_list = list(map(double, nums))\n",
    "print(doubled_list)"
   ]
  },
  {
   "cell_type": "markdown",
   "metadata": {},
   "source": [
    "procedural way to get a list of even numbers\n"
   ]
  },
  {
   "cell_type": "code",
   "execution_count": 31,
   "metadata": {},
   "outputs": [
    {
     "name": "stdout",
     "output_type": "stream",
     "text": [
      "[0, 2, 4, 6, 8, 10]\n"
     ]
    }
   ],
   "source": [
    "nums = [0, 1, 2, 3, 4, 5, 6, 7, 8, 9, 10]\n",
    "evens = []\n",
    "for x in nums:\n",
    "    if x % 2 == 0:\n",
    "        evens.append(x)\n",
    "\n",
    "print(evens)"
   ]
  },
  {
   "cell_type": "markdown",
   "metadata": {},
   "source": [
    "functional way:"
   ]
  },
  {
   "cell_type": "code",
   "execution_count": 32,
   "metadata": {},
   "outputs": [
    {
     "name": "stdout",
     "output_type": "stream",
     "text": [
      "[0, 2, 4, 6, 8, 10]\n"
     ]
    }
   ],
   "source": [
    "n = list(range(11))\n",
    "def is_even(x): return x % 2 == 0\n",
    "\n",
    "even_nums = list(filter(is_even, n))\n",
    "print(even_nums)\n"
   ]
  },
  {
   "cell_type": "code",
   "execution_count": 33,
   "metadata": {},
   "outputs": [
    {
     "name": "stdout",
     "output_type": "stream",
     "text": [
      "[20, 22, 24, 26, 28, 30, 32, 34, 36, 38, 40]\n"
     ]
    }
   ],
   "source": [
    "nums1 = list(range(10, 21))\n",
    "double = lambda x: x * 2\n",
    "doubled = list(map(double, nums1))\n",
    "print(doubled)"
   ]
  },
  {
   "cell_type": "markdown",
   "metadata": {},
   "source": [
    "another lambda example"
   ]
  },
  {
   "cell_type": "code",
   "execution_count": 34,
   "metadata": {},
   "outputs": [
    {
     "name": "stdout",
     "output_type": "stream",
     "text": [
      "30\n"
     ]
    }
   ],
   "source": [
    "add = lambda x, y: x + y\n",
    "print(add(10, 20))"
   ]
  },
  {
   "cell_type": "code",
   "execution_count": 35,
   "metadata": {},
   "outputs": [
    {
     "name": "stdout",
     "output_type": "stream",
     "text": [
      "[0, 2, 4, 6, 8, 10, 12, 14, 16, 18, 20]\n"
     ]
    }
   ],
   "source": [
    "newnums = list(range(11))\n",
    "doubled = list(map(lambda x: x * 2, newnums))\n",
    "print(doubled)"
   ]
  },
  {
   "cell_type": "code",
   "execution_count": 36,
   "metadata": {},
   "outputs": [
    {
     "name": "stdout",
     "output_type": "stream",
     "text": [
      "20\n"
     ]
    }
   ],
   "source": [
    "def multiplier(y):\n",
    "    \"this function returns a function that multiplies by x\"\n",
    "    return lambda x: x * y\n",
    "\n",
    "d = multiplier(2)\n",
    "print(d(10))"
   ]
  },
  {
   "cell_type": "code",
   "execution_count": 37,
   "metadata": {},
   "outputs": [
    {
     "name": "stdout",
     "output_type": "stream",
     "text": [
      "60\n",
      "80\n",
      "100\n",
      "120\n",
      "140\n"
     ]
    }
   ],
   "source": [
    "print(d(30))\n",
    "print(d(40))\n",
    "print(d(50))\n",
    "print(d(60))\n",
    "print(d(70))"
   ]
  },
  {
   "cell_type": "markdown",
   "metadata": {},
   "source": [
    "procedural way to achieve the examples above"
   ]
  },
  {
   "cell_type": "code",
   "execution_count": 38,
   "metadata": {},
   "outputs": [],
   "source": [
    "nums = list(range(21))"
   ]
  },
  {
   "cell_type": "code",
   "execution_count": 39,
   "metadata": {},
   "outputs": [
    {
     "name": "stdout",
     "output_type": "stream",
     "text": [
      "[0, 2, 4, 6, 8, 10, 12, 14, 16, 18, 20, 22, 24, 26, 28, 30, 32, 34, 36, 38, 40]\n"
     ]
    }
   ],
   "source": [
    "doubled_num = [x * 2 for x in nums]\n",
    "print(doubled_num)"
   ]
  },
  {
   "cell_type": "code",
   "execution_count": 40,
   "metadata": {},
   "outputs": [
    {
     "name": "stdout",
     "output_type": "stream",
     "text": [
      "[0, 2, 4, 6, 8, 10, 12, 14, 16, 18, 20]\n"
     ]
    }
   ],
   "source": [
    "even_nums = [x for x in nums if x % 2 == 0]\n",
    "print(even_nums)"
   ]
  },
  {
   "cell_type": "code",
   "execution_count": 41,
   "metadata": {},
   "outputs": [
    {
     "name": "stdout",
     "output_type": "stream",
     "text": [
      "[1, 3, 5, 7, 9, 11, 13, 15, 17, 19]\n"
     ]
    }
   ],
   "source": [
    "odd_nums = [x for x in nums if x % 2 != 0]\n",
    "print(odd_nums)"
   ]
  },
  {
   "cell_type": "markdown",
   "metadata": {},
   "source": [
    "using reduce from the functools library"
   ]
  },
  {
   "cell_type": "code",
   "execution_count": 42,
   "metadata": {},
   "outputs": [],
   "source": [
    "from functools import reduce"
   ]
  },
  {
   "cell_type": "code",
   "execution_count": 43,
   "metadata": {},
   "outputs": [
    {
     "name": "stdout",
     "output_type": "stream",
     "text": [
      "acc is 0 and x is 1\n",
      "acc is 1 and x is 2\n",
      "acc is 3 and x is 3\n",
      "acc is 6 and x is 4\n",
      "acc is 10 and x is 5\n",
      "acc is 15 and x is 6\n",
      "acc is 21 and x is 7\n",
      "acc is 28 and x is 8\n",
      "acc is 36 and x is 9\n",
      "acc is 45 and x is 10\n",
      "acc is 55 and x is 11\n",
      "acc is 66 and x is 12\n",
      "acc is 78 and x is 13\n",
      "acc is 91 and x is 14\n",
      "acc is 105 and x is 15\n",
      "acc is 120 and x is 16\n",
      "acc is 136 and x is 17\n",
      "acc is 153 and x is 18\n",
      "acc is 171 and x is 19\n",
      "acc is 190 and x is 20\n",
      "210\n"
     ]
    }
   ],
   "source": [
    "nums = list(range(21))\n",
    "\n",
    "def getsum(acc, x): \n",
    "    print(f\"acc is {acc} and x is {x}\")\n",
    "    return acc + x\n",
    "\n",
    "sum = reduce(getsum, nums)\n",
    "print(sum)"
   ]
  },
  {
   "cell_type": "code",
   "execution_count": null,
   "metadata": {},
   "outputs": [],
   "source": []
  },
  {
   "cell_type": "code",
   "execution_count": null,
   "metadata": {},
   "outputs": [],
   "source": []
  },
  {
   "cell_type": "code",
   "execution_count": null,
   "metadata": {},
   "outputs": [],
   "source": []
  },
  {
   "cell_type": "code",
   "execution_count": null,
   "metadata": {},
   "outputs": [],
   "source": []
  }
 ],
 "metadata": {
  "interpreter": {
   "hash": "7e1998ff7f8aa20ada591c520b972326324e5ea05489af9e422744c7c09f6dad"
  },
  "kernelspec": {
   "display_name": "Python 3.10.0 64-bit",
   "language": "python",
   "name": "python3"
  },
  "language_info": {
   "codemirror_mode": {
    "name": "ipython",
    "version": 3
   },
   "file_extension": ".py",
   "mimetype": "text/x-python",
   "name": "python",
   "nbconvert_exporter": "python",
   "pygments_lexer": "ipython3",
   "version": "3.10.2"
  },
  "orig_nbformat": 4
 },
 "nbformat": 4,
 "nbformat_minor": 2
}
