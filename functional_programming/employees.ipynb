{
 "cells": [
  {
   "cell_type": "code",
   "execution_count": 1,
   "metadata": {},
   "outputs": [],
   "source": [
    "from functools import reduce # reduce is a built-in function for Python"
   ]
  },
  {
   "cell_type": "code",
   "execution_count": 6,
   "metadata": {},
   "outputs": [],
   "source": [
    "employees = dict(\n",
    "    Jane = dict(\n",
    "        salary = 90000,\n",
    "        job_title = 'developer'\n",
    "    ),\n",
    "    Bill = dict(\n",
    "        salary = 50000,\n",
    "        job_title = 'writer'\n",
    "    ),\n",
    "    Kathy = dict(\n",
    "        salary = 120000,\n",
    "        job_title = 'executive'\n",
    "    ),\n",
    "    Anna = dict(\n",
    "        salary = 100000,\n",
    "        job_title = 'developer'\n",
    "    ),\n",
    "    Dennis = dict(\n",
    "        salary = 95000,\n",
    "        job_title = 'developer'\n",
    "    ),\n",
    "    Albert = dict(\n",
    "        salary = 70000,\n",
    "        job_title = 'marketing specialist'\n",
    "    )\n",
    ")"
   ]
  },
  {
   "cell_type": "code",
   "execution_count": 8,
   "metadata": {},
   "outputs": [
    {
     "name": "stdout",
     "output_type": "stream",
     "text": [
      "Jane {'salary': 90000, 'job_title': 'developer'}\n",
      "Bill {'salary': 50000, 'job_title': 'writer'}\n",
      "Kathy {'salary': 120000, 'job_title': 'executive'}\n",
      "Anna {'salary': 100000, 'job_title': 'developer'}\n",
      "Dennis {'salary': 95000, 'job_title': 'developer'}\n",
      "Albert {'salary': 70000, 'job_title': 'marketing specialist'}\n"
     ]
    }
   ],
   "source": [
    "for k, v in employees.items():\n",
    "    print(k, v)"
   ]
  },
  {
   "cell_type": "code",
   "execution_count": 10,
   "metadata": {},
   "outputs": [
    {
     "data": {
      "text/plain": [
       "{'salary': 100000, 'job_title': 'developer'}"
      ]
     },
     "execution_count": 10,
     "metadata": {},
     "output_type": "execute_result"
    }
   ],
   "source": [
    "employees['Anna']"
   ]
  },
  {
   "cell_type": "code",
   "execution_count": 12,
   "metadata": {},
   "outputs": [
    {
     "name": "stdout",
     "output_type": "stream",
     "text": [
      "dict_keys(['Jane', 'Bill', 'Kathy', 'Anna', 'Dennis', 'Albert'])\n"
     ]
    }
   ],
   "source": [
    "print(employees.keys())"
   ]
  },
  {
   "cell_type": "code",
   "execution_count": 11,
   "metadata": {},
   "outputs": [
    {
     "name": "stdout",
     "output_type": "stream",
     "text": [
      "dict_values([{'salary': 90000, 'job_title': 'developer'}, {'salary': 50000, 'job_title': 'writer'}, {'salary': 120000, 'job_title': 'executive'}, {'salary': 100000, 'job_title': 'developer'}, {'salary': 95000, 'job_title': 'developer'}, {'salary': 70000, 'job_title': 'marketing specialist'}])\n"
     ]
    }
   ],
   "source": [
    "print(employees.values())"
   ]
  },
  {
   "cell_type": "code",
   "execution_count": 13,
   "metadata": {},
   "outputs": [],
   "source": [
    "isdeveloper = lambda x: x['job_title'] == 'developer'\n",
    "isnotdeveloper = lambda x: x['job_title'] != 'developer'"
   ]
  },
  {
   "cell_type": "code",
   "execution_count": 14,
   "metadata": {},
   "outputs": [],
   "source": [
    "developers = list(filter(isdeveloper, employees.values()))\n",
    "nondevelopers = list(filter(isnotdeveloper, employees.values()))"
   ]
  },
  {
   "cell_type": "code",
   "execution_count": 15,
   "metadata": {},
   "outputs": [],
   "source": [
    "getsalary = lambda x: x['salary']"
   ]
  },
  {
   "cell_type": "code",
   "execution_count": 16,
   "metadata": {},
   "outputs": [],
   "source": [
    "devsalaries = list(map(getsalary, developers))\n",
    "nondevsalaries = list(map(getsalary, nondevelopers))"
   ]
  },
  {
   "cell_type": "code",
   "execution_count": 17,
   "metadata": {},
   "outputs": [],
   "source": [
    "getsum = lambda acc, x: acc + x"
   ]
  },
  {
   "cell_type": "code",
   "execution_count": 18,
   "metadata": {},
   "outputs": [],
   "source": [
    "totaldevsalaries = reduce(getsum, devsalaries)\n",
    "avgdevsalary = totaldevsalaries / len(devsalaries)"
   ]
  },
  {
   "cell_type": "code",
   "execution_count": 19,
   "metadata": {},
   "outputs": [],
   "source": [
    "totalnondevsalaries = reduce(getsum, nondevsalaries)\n",
    "avgnondevsalary = totalnondevsalaries / len(nondevsalaries)"
   ]
  },
  {
   "cell_type": "code",
   "execution_count": 20,
   "metadata": {},
   "outputs": [
    {
     "name": "stdout",
     "output_type": "stream",
     "text": [
      "95000.0\n",
      "80000.0\n"
     ]
    }
   ],
   "source": [
    "print(avgdevsalary)\n",
    "print(avgnondevsalary)"
   ]
  },
  {
   "cell_type": "code",
   "execution_count": null,
   "metadata": {},
   "outputs": [],
   "source": []
  }
 ],
 "metadata": {
  "interpreter": {
   "hash": "aee8b7b246df8f9039afb4144a1f6fd8d2ca17a180786b69acc140d282b71a49"
  },
  "kernelspec": {
   "display_name": "Python 3.10.2 64-bit",
   "language": "python",
   "name": "python3"
  },
  "language_info": {
   "codemirror_mode": {
    "name": "ipython",
    "version": 3
   },
   "file_extension": ".py",
   "mimetype": "text/x-python",
   "name": "python",
   "nbconvert_exporter": "python",
   "pygments_lexer": "ipython3",
   "version": "3.10.2"
  },
  "orig_nbformat": 4
 },
 "nbformat": 4,
 "nbformat_minor": 2
}
