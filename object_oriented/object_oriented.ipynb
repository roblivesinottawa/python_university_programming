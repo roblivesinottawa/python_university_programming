{
 "cells": [
  {
   "cell_type": "markdown",
   "metadata": {},
   "source": [
    "create a movie class"
   ]
  },
  {
   "cell_type": "code",
   "execution_count": 1,
   "metadata": {},
   "outputs": [
    {
     "name": "stdout",
     "output_type": "stream",
     "text": [
      "Movie types: ('COMEDY', 'DRAMA', 'ACTION', 'SCI-FI')\n",
      "[<__main__.Movie object at 0x110065bd0>, <__main__.Movie object at 0x110064c70>]\n"
     ]
    }
   ],
   "source": [
    "class Movie:\n",
    "    MOVIE_TYPES = (\"COMEDY\", \"DRAMA\", \"ACTION\", \"SCI-FI\")\n",
    "    __movielist = None\n",
    "\n",
    "    @staticmethod\n",
    "    def getmovielist():\n",
    "        if Movie.__movielist == None:\n",
    "            Movie.__movielist = []\n",
    "        return Movie.__movielist\n",
    "\n",
    "    @classmethod\n",
    "    def getmovietypes(cls):\n",
    "        return cls.MOVIE_TYPES\n",
    "\n",
    "    def setTitle(self, newtitle):\n",
    "        self.title = newtitle\n",
    "\n",
    "    def __init__(self, title, movietype):\n",
    "        self.title = title\n",
    "        if (not movietype in Movie.MOVIE_TYPES):\n",
    "            raise ValueError(f\"{movietype} is not a valid movie type\")\n",
    "        else:\n",
    "            self.movietype = movietype\n",
    "\n",
    "print(f\"Movie types: {Movie.getmovietypes()}\")\n",
    "\n",
    "movie1 = Movie(\"Title 1\", \"COMEDY\")\n",
    "movie2 = Movie(\"Title 2\", \"DRAMA\")\n",
    "\n",
    "themovies = Movie.getmovielist()\n",
    "themovies.append(movie1)\n",
    "themovies.append(movie2)\n",
    "print(themovies)"
   ]
  },
  {
   "cell_type": "code",
   "execution_count": null,
   "metadata": {},
   "outputs": [],
   "source": []
  }
 ],
 "metadata": {
  "interpreter": {
   "hash": "aee8b7b246df8f9039afb4144a1f6fd8d2ca17a180786b69acc140d282b71a49"
  },
  "kernelspec": {
   "display_name": "Python 3.10.2 64-bit",
   "language": "python",
   "name": "python3"
  },
  "language_info": {
   "codemirror_mode": {
    "name": "ipython",
    "version": 3
   },
   "file_extension": ".py",
   "mimetype": "text/x-python",
   "name": "python",
   "nbconvert_exporter": "python",
   "pygments_lexer": "ipython3",
   "version": "3.10.2"
  },
  "orig_nbformat": 4
 },
 "nbformat": 4,
 "nbformat_minor": 2
}
