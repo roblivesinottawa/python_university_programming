{
 "cells": [
  {
   "cell_type": "markdown",
   "metadata": {},
   "source": [
    "create a movie class"
   ]
  },
  {
   "cell_type": "code",
   "execution_count": 1,
   "metadata": {},
   "outputs": [
    {
     "name": "stdout",
     "output_type": "stream",
     "text": [
      "Movie types: ('COMEDY', 'DRAMA', 'ACTION', 'SCI-FI')\n",
      "[<__main__.Movie object at 0x110065bd0>, <__main__.Movie object at 0x110064c70>]\n"
     ]
    }
   ],
   "source": [
    "class Movie:\n",
    "    MOVIE_TYPES = (\"COMEDY\", \"DRAMA\", \"ACTION\", \"SCI-FI\")\n",
    "    __movielist = None\n",
    "\n",
    "    @staticmethod\n",
    "    def getmovielist():\n",
    "        if Movie.__movielist == None:\n",
    "            Movie.__movielist = []\n",
    "        return Movie.__movielist\n",
    "\n",
    "    @classmethod\n",
    "    def getmovietypes(cls):\n",
    "        return cls.MOVIE_TYPES\n",
    "\n",
    "    def setTitle(self, newtitle):\n",
    "        self.title = newtitle\n",
    "\n",
    "    def __init__(self, title, movietype):\n",
    "        self.title = title\n",
    "        if (not movietype in Movie.MOVIE_TYPES):\n",
    "            raise ValueError(f\"{movietype} is not a valid movie type\")\n",
    "        else:\n",
    "            self.movietype = movietype\n",
    "\n",
    "print(f\"Movie types: {Movie.getmovietypes()}\")\n",
    "\n",
    "movie1 = Movie(\"Title 1\", \"COMEDY\")\n",
    "movie2 = Movie(\"Title 2\", \"DRAMA\")\n",
    "\n",
    "themovies = Movie.getmovielist()\n",
    "themovies.append(movie1)\n",
    "themovies.append(movie2)\n",
    "print(themovies)"
   ]
  },
  {
   "cell_type": "markdown",
   "metadata": {},
   "source": [
    "using the __init__ function"
   ]
  },
  {
   "cell_type": "code",
   "execution_count": 6,
   "metadata": {},
   "outputs": [
    {
     "name": "stdout",
     "output_type": "stream",
     "text": [
      "The Punisher War Zone by Marvel Comics\n",
      "The Punisher War Zone\n"
     ]
    }
   ],
   "source": [
    "class ComicBook:\n",
    "    def __init__(self, title, publisher):\n",
    "        self.title = title\n",
    "        self.publisher = publisher\n",
    "\n",
    "    def __repr__(self):\n",
    "        return f\"{self.title} by {self.publisher}\"\n",
    "\n",
    "comic = ComicBook(\"The Punisher War Zone\", \"Marvel Comics\")\n",
    "\n",
    "print(comic)\n",
    "print(comic.title)"
   ]
  },
  {
   "cell_type": "markdown",
   "metadata": {},
   "source": [
    "defining instance methods"
   ]
  },
  {
   "cell_type": "code",
   "execution_count": 9,
   "metadata": {},
   "outputs": [
    {
     "name": "stdout",
     "output_type": "stream",
     "text": [
      "30000\n"
     ]
    }
   ],
   "source": [
    "class Vehicle:\n",
    "    def __init__(self, make, model, year, price):\n",
    "        self.make = make\n",
    "        self.model = model\n",
    "        self.year = year\n",
    "        self.price = price\n",
    "        self.__secret = \"This is a secret attribute\"\n",
    "\n",
    "    def setdiscount(self, amount):\n",
    "        self._discount = amount\n",
    "\n",
    "    def getprice(self):\n",
    "        if hasattr(self, \"_discount\"):\n",
    "            return self.price - (self.price * self._discount)\n",
    "        else:\n",
    "            return self.price\n",
    "\n",
    "    def __repr__(self):\n",
    "        return f\"{self.year} {self.make} {self.model}\"\n",
    "\n",
    "vehicle1 = Vehicle(\"Ford\", \"Fiesta\", 2019, 30000)\n",
    "vehicle2 = Vehicle(\"Toyota\", \"Corolla\",2017, 20000)\n",
    "vehicle3 = Vehicle(\"Tesla\", \"Model S\", 2019, 50000)\n",
    "\n",
    "print(vehicle1.getprice())"
   ]
  },
  {
   "cell_type": "code",
   "execution_count": 10,
   "metadata": {},
   "outputs": [
    {
     "name": "stdout",
     "output_type": "stream",
     "text": [
      "20000\n",
      "15000.0\n"
     ]
    }
   ],
   "source": [
    "# set the discount\n",
    "print(vehicle2.getprice())\n",
    "vehicle2.setdiscount(0.25)\n",
    "print(vehicle2.getprice())"
   ]
  },
  {
   "cell_type": "code",
   "execution_count": 11,
   "metadata": {},
   "outputs": [
    {
     "ename": "AttributeError",
     "evalue": "'Vehicle' object has no attribute '_discount'",
     "output_type": "error",
     "traceback": [
      "\u001b[0;31m---------------------------------------------------------------------------\u001b[0m",
      "\u001b[0;31mAttributeError\u001b[0m                            Traceback (most recent call last)",
      "\u001b[1;32m/Users/rob_the_programmer/Documents/programming/2022/python_university_programming/object_oriented/object_oriented.ipynb Cell 8'\u001b[0m in \u001b[0;36m<module>\u001b[0;34m\u001b[0m\n\u001b[0;32m----> <a href='vscode-notebook-cell:/Users/rob_the_programmer/Documents/programming/2022/python_university_programming/object_oriented/object_oriented.ipynb#ch0000007?line=0'>1</a>\u001b[0m \u001b[39mprint\u001b[39m(vehicle3\u001b[39m.\u001b[39;49m_discount)\n",
      "\u001b[0;31mAttributeError\u001b[0m: 'Vehicle' object has no attribute '_discount'"
     ]
    }
   ],
   "source": [
    "print(vehicle3._discount) # this is a private attribute hidden from the interpreter"
   ]
  },
  {
   "cell_type": "code",
   "execution_count": null,
   "metadata": {},
   "outputs": [],
   "source": []
  }
 ],
 "metadata": {
  "interpreter": {
   "hash": "aee8b7b246df8f9039afb4144a1f6fd8d2ca17a180786b69acc140d282b71a49"
  },
  "kernelspec": {
   "display_name": "Python 3.10.2 64-bit",
   "language": "python",
   "name": "python3"
  },
  "language_info": {
   "codemirror_mode": {
    "name": "ipython",
    "version": 3
   },
   "file_extension": ".py",
   "mimetype": "text/x-python",
   "name": "python",
   "nbconvert_exporter": "python",
   "pygments_lexer": "ipython3",
   "version": "3.10.2"
  },
  "orig_nbformat": 4
 },
 "nbformat": 4,
 "nbformat_minor": 2
}
